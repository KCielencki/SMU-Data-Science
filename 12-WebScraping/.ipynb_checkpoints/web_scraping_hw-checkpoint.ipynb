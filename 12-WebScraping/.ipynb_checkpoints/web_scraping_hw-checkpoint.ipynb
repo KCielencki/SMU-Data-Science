{
 "cells": [
  {
   "cell_type": "code",
   "execution_count": 1,
   "metadata": {},
   "outputs": [],
   "source": [
    "from bs4 import BeautifulSoup\n",
    "import requests\n",
    "from splinter import Browser\n",
    "from datetime import datetime\n",
    "import pandas as pd\n",
    "import json"
   ]
  },
  {
   "cell_type": "code",
   "execution_count": 2,
   "metadata": {},
   "outputs": [],
   "source": [
    "url = 'https://mars.nasa.gov/news/'"
   ]
  },
  {
   "cell_type": "code",
   "execution_count": 3,
   "metadata": {},
   "outputs": [
    {
     "data": {
      "text/plain": [
       "200"
      ]
     },
     "execution_count": 3,
     "metadata": {},
     "output_type": "execute_result"
    }
   ],
   "source": [
    "response = requests.get(url)\n",
    "response.status_code"
   ]
  },
  {
   "cell_type": "code",
   "execution_count": 4,
   "metadata": {},
   "outputs": [
    {
     "data": {
      "text/plain": [
       "\"<!DOCTYPE html>\\n<html lang='en' xml:lang='en' xmln\""
      ]
     },
     "execution_count": 4,
     "metadata": {},
     "output_type": "execute_result"
    }
   ],
   "source": [
    "html = response.text\n",
    "html[0:50]"
   ]
  },
  {
   "cell_type": "code",
   "execution_count": 5,
   "metadata": {},
   "outputs": [],
   "source": [
    "soup = BeautifulSoup(html, \"lxml\")"
   ]
  },
  {
   "cell_type": "code",
   "execution_count": 6,
   "metadata": {},
   "outputs": [],
   "source": [
    "executable_path = {'executable_path': r\"C:\\Users\\kylec\\Desktop\\chromedriver.exe\"}\n",
    "browser = Browser('chrome', **executable_path, headless=True)\n",
    "url = 'https://mars.nasa.gov/news/'\n",
    "browser.visit(url)"
   ]
  },
  {
   "cell_type": "code",
   "execution_count": 7,
   "metadata": {},
   "outputs": [],
   "source": [
    "html = browser.html\n",
    "soup = BeautifulSoup(html, \"lxml\")"
   ]
  },
  {
   "cell_type": "code",
   "execution_count": 8,
   "metadata": {},
   "outputs": [
    {
     "data": {
      "text/plain": [
       "40"
      ]
     },
     "execution_count": 8,
     "metadata": {},
     "output_type": "execute_result"
    }
   ],
   "source": [
    "teasers = soup.find_all(class_=\"article_teaser_body\")\n",
    "\n",
    "len(teasers)"
   ]
  },
  {
   "cell_type": "code",
   "execution_count": 9,
   "metadata": {},
   "outputs": [
    {
     "data": {
      "text/plain": [
       "'The small craft will seek to prove that powered, controlled flight is possible on another planet. But just getting it onto the surface of Mars will take a whole lot of ingenuity.'"
      ]
     },
     "execution_count": 9,
     "metadata": {},
     "output_type": "execute_result"
    }
   ],
   "source": [
    "teasers = soup.find_all(class_=\"article_teaser_body\")\n",
    "newsTeasers = teasers[0].text.strip()\n",
    "newsTeasers"
   ]
  },
  {
   "cell_type": "code",
   "execution_count": null,
   "metadata": {},
   "outputs": [],
   "source": [
    "factsUrl = 'https://space-facts.com/mars/'\n",
    "browser.visit(factsUrl)\n",
    "html = browser.html\n",
    "\n",
    "soup = BeautifulSoup(html, \"html.parser\")\n",
    "\n",
    "stats = soup.find('table', id='tablepress-p-mars')\n",
    "eqDiameterLabel = stats.find_all('strong')[0].text\n",
    "poDiameterLabel = stats.find_all('strong')[1].text\n",
    "massLabel = stats.find_all('strong')[2].text\n",
    "moonsLabel = stats.find_all('strong')[3].text\n",
    "orbitDistLabel = stats.find_all('strong')[4].text\n",
    "orbitPdLabel = stats.find_all('strong')[5].text\n",
    "tempLabel = stats.find_all('strong')[6].text\n",
    "firstRecLabel = stats.find_all('strong')[7].text\n",
    "recByLabel = stats.find_all('strong')[8].text\n",
    "eqDiameter = stats.find_all(class_='column-2')[0].text\n",
    "poDiameter = stats.find_all(class_='column-2')[1].text\n",
    "mass = stats.find_all(class_='column-2')[2].text\n",
    "moons = stats.find_all(class_='column-2')[3].text\n",
    "orbitdDist = stats.find_all(class_='column-2')[4].text\n",
    "orbitdPd = stats.find_all(class_='column-2')[5].text\n",
    "temp = stats.find_all(class_='column-2')[6].text\n",
    "firstRec = stats.find_all(class_='column-2')[7].text\n",
    "recBy = stats.find_all(class_='column-2')[8].text"
   ]
  },
  {
   "cell_type": "code",
   "execution_count": 10,
   "metadata": {},
   "outputs": [],
   "source": [
    "def marsScraper():\n",
    "    executable_path = {'executable_path': r\"C:\\Users\\kylec\\Desktop\\chromedriver.exe\"}\n",
    "    browser = Browser('chrome', **executable_path, headless=True)\n",
    "    url = 'https://mars.nasa.gov/news/'\n",
    "    browser.visit(url)\n",
    "    \n",
    "    html = browser.html\n",
    "    soup = BeautifulSoup(html, \"lxml\")\n",
    "    \n",
    "    titles = soup.find_all(class_=\"content_title\")\n",
    "    \n",
    "    firstTitle = \"\" \n",
    "    for title in titles:\n",
    "        if title.a:\n",
    "            firstTitle = title\n",
    "            break\n",
    "    \n",
    "    newsTitle = firstTitle.a.text.strip()\n",
    "    newsLink = \"https://mars.nasa.gov\" + firstTitle.a['href']\n",
    "    \n",
    "    teaser = soup.find_all(class_=\"article_teaser_body\")\n",
    "    \n",
    "    newsTeasers = teaser[0].text.strip()\n",
    "    \n",
    "    imageUrl = 'https://www.jpl.nasa.gov/spaceimages/?search=&category=Mars'\n",
    "    browser.visit(imageUrl)\n",
    "    html = browser.html\n",
    "    soup = BeautifulSoup(html, \"lxml\")\n",
    "    \n",
    "    images = soup.find_all(class_=\"carousel_item\")\n",
    "    imageURL = 'https://www.jpl.nasa.gov' + images[0][\"style\"].split(\" \")[1].split(\"'\")[1]\n",
    "    \n",
    "    twitterUrl = 'https://twitter.com/marswxreport?lang=en'\n",
    "    browser.visit(twitterUrl)\n",
    "    html = browser.html\n",
    "    soup = BeautifulSoup(html, \"lxml\")\n",
    "    \n",
    "    allTweets = soup.find_all(\"span\")\n",
    "    tweetText = \"\"\n",
    "    for tweet in allTweets:\n",
    "        if tweet.text:\n",
    "            if \"InSight sol\" in tweet.text:\n",
    "                tweetText = tweet.text\n",
    "                break\n",
    "    \n",
    "    url = 'https://space-facts.com/mars/'\n",
    "    browser.visit(url)\n",
    "    html = browser.html\n",
    "    dfs = pd.read_html(html)\n",
    "    stats = dfs[0]\n",
    "    stats.columns = [\"Attribute\", \"Value\"]\n",
    "    \n",
    "    #format and save\n",
    "    data_html = stats.to_html(index=False)\n",
    "    data_stats = json.loads(stats.to_json(orient=\"records\"))\n",
    "\n",
    "    browser.quit()\n",
    "    \n",
    "    retDict = {\n",
    "        \"newsTitle\": newsTitle,\n",
    "        \"newsTeaser\": newsTeasers,\n",
    "        \"newsLink\": newsLink,\n",
    "        \"featureImageURL\": imageURL,\n",
    "        \"marsStats\": data_stats,\n",
    "        \"dateScraped\": datetime.now()\n",
    "    }\n",
    "    \n",
    "    return retDict"
   ]
  },
  {
   "cell_type": "code",
   "execution_count": 11,
   "metadata": {},
   "outputs": [
    {
     "data": {
      "text/plain": [
       "{'newsTitle': \"How NASA's Mars Helicopter Will Reach the Red Planet's Surface\",\n",
       " 'newsTeaser': 'The small craft will seek to prove that powered, controlled flight is possible on another planet. But just getting it onto the surface of Mars will take a whole lot of ingenuity.',\n",
       " 'newsLink': 'https://mars.nasa.gov/news/8699/how-nasas-mars-helicopter-will-reach-the-red-planets-surface/',\n",
       " 'featureImageURL': 'https://www.jpl.nasa.gov/spaceimages/images/wallpaper/PIA11591-1920x1200.jpg',\n",
       " 'marsStats': [{'Attribute': 'Equatorial Diameter:', 'Value': '6,792 km'},\n",
       "  {'Attribute': 'Polar Diameter:', 'Value': '6,752 km'},\n",
       "  {'Attribute': 'Mass:', 'Value': '6.39 × 10^23 kg (0.11 Earths)'},\n",
       "  {'Attribute': 'Moons:', 'Value': '2 (Phobos & Deimos)'},\n",
       "  {'Attribute': 'Orbit Distance:', 'Value': '227,943,824 km (1.38 AU)'},\n",
       "  {'Attribute': 'Orbit Period:', 'Value': '687 days (1.9 years)'},\n",
       "  {'Attribute': 'Surface Temperature:', 'Value': '-87 to -5 °C'},\n",
       "  {'Attribute': 'First Record:', 'Value': '2nd millennium BC'},\n",
       "  {'Attribute': 'Recorded By:', 'Value': 'Egyptian astronomers'}],\n",
       " 'dateScraped': datetime.datetime(2020, 6, 30, 20, 48, 58, 430091)}"
      ]
     },
     "execution_count": 11,
     "metadata": {},
     "output_type": "execute_result"
    }
   ],
   "source": [
    "marsNews = marsScraper()\n",
    "marsNews"
   ]
  }
 ],
 "metadata": {
  "kernelspec": {
   "display_name": "Python 3",
   "language": "python",
   "name": "python3"
  },
  "language_info": {
   "codemirror_mode": {
    "name": "ipython",
    "version": 3
   },
   "file_extension": ".py",
   "mimetype": "text/x-python",
   "name": "python",
   "nbconvert_exporter": "python",
   "pygments_lexer": "ipython3",
   "version": "3.7.6"
  }
 },
 "nbformat": 4,
 "nbformat_minor": 4
}
